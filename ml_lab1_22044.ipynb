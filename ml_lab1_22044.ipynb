{
 "cells": [
  {
   "cell_type": "code",
   "execution_count": 3,
   "metadata": {},
   "outputs": [
    {
     "name": "stdout",
     "output_type": "stream",
     "text": [
      "entered string is  My name is Okesh\n",
      "Vowel count: 5\n",
      "Consonant count: 8\n"
     ]
    }
   ],
   "source": [
    "def count_vowels(input_string):\n",
    "    vowels=\"AEIOU\"\n",
    "    vowel_count = 0\n",
    "    for char in input_string.upper():\n",
    "       if char in vowels:\n",
    "        vowel_count += 1\n",
    "\n",
    "    return vowel_count\n",
    "\n",
    "def count_consonants(input_string):\n",
    "    consonants = \"BCDFGHJKLMNPQRSTVWXYZ\"\n",
    "    consonant_count =0\n",
    "    for char in input_string.upper():\n",
    "       if char in consonants:\n",
    "        consonant_count += 1\n",
    "    return consonant_count\n",
    "\n",
    "if __name__ == \"__main__\":\n",
    "    user_input = input(\"Enter a string: \")\n",
    "    vowel_count = count_vowels(user_input)\n",
    "    consonant_count = count_consonants(user_input)\n",
    "    print(\"entered string is \",user_input)\n",
    "    print(\"Vowel count:\", vowel_count)\n",
    "    print(\"Consonant count:\", consonant_count)\n"
   ]
  },
  {
   "cell_type": "code",
   "execution_count": 8,
   "metadata": {},
   "outputs": [
    {
     "name": "stdout",
     "output_type": "stream",
     "text": [
      "List1 is  [12, 12, 3, 3, 2, 1, 4]\n",
      "list2 is  [12, 3, 5, 6, 7]\n",
      "Number of common elements: 2\n"
     ]
    }
   ],
   "source": [
    "def find_common_num(list1, list2):\n",
    "    common_values= 0\n",
    "    \n",
    "    for num in set(list1):\n",
    "        if num in set(list2):\n",
    "            common_values += 1\n",
    "\n",
    "    return common_values\n",
    "\n",
    "if __name__ == \"__main__\":\n",
    "    list1_str = input(\"Enter elements of the first list separated by space: \")\n",
    "    list1 = [int(x) for x in list1_str.split(',')]\n",
    "    list2_str = input(\"Enter elements of the second list separated by space: \")\n",
    "    list2 = [int(x) for x in list2_str.split(',')]\n",
    "    print(\"List1 is \",list1)\n",
    "    print(\"list2 is \",list2)\n",
    "    num_common_elements = find_common_num(list1, list2)\n",
    "    print('Number of common elements:', num_common_elements)\n"
   ]
  },
  {
   "cell_type": "code",
   "execution_count": 11,
   "metadata": {},
   "outputs": [
    {
     "name": "stdout",
     "output_type": "stream",
     "text": [
      "\n",
      "Input Matrix:\n",
      "[1, 2]\n",
      "[1, 2]\n",
      "[2, 3]\n",
      "\n",
      "Transpose Matrix:\n",
      "[1, 1, 2]\n",
      "[2, 2, 3]\n"
     ]
    }
   ],
   "source": [
    "def matrix_transpose(matrix):\n",
    "    transpose_matrix = [[matrix[j][i] for j in range(len(matrix))] for i in range(len(matrix[0]))]\n",
    "    for i in range(len(matrix)):\n",
    "        for j in range(len(matrix[0])):\n",
    "            transpose_matrix[j][i] = matrix[i][j]\n",
    "    return transpose_matrix\n",
    "\n",
    "\n",
    "def get_matrix_input(rows, cols):\n",
    "    matrix = []\n",
    "    for i in range(rows):\n",
    "        row = [int(input(f\"Enter element {i + 1},{j + 1}: \")) for j in range(cols)]\n",
    "        matrix.append(row)\n",
    "    return matrix\n",
    "\n",
    "\n",
    "def main():\n",
    "    rows = int(input(\"Enter the number of rows for the matrix: \"))\n",
    "    cols = int(input(\"Enter the number of columns for the matrix: \"))\n",
    "    \n",
    "    input_matrix = get_matrix_input(rows, cols)\n",
    "\n",
    "    transpose_result = matrix_transpose(input_matrix)\n",
    "\n",
    "    print(\"\\nInput Matrix:\")\n",
    "    for row in input_matrix:\n",
    "        print(row)\n",
    "\n",
    "    print(\"\\nTranspose Matrix:\")\n",
    "    for row in transpose_result:\n",
    "        print(row)\n",
    "\n",
    "\n",
    "if __name__ == \"__main__\":\n",
    "    main()\n"
   ]
  },
  {
   "cell_type": "code",
   "execution_count": 16,
   "metadata": {},
   "outputs": [
    {
     "name": "stdout",
     "output_type": "stream",
     "text": [
      "matrix1: [[1.0, 2.0, 3.0], [2.0, 3.0, 4.0]]\n",
      "matrix2: [[2.0, 3.0], [1.0, 2.0], [2.0, 3.0]]\n",
      "\n",
      "Resultant Matrix:\n",
      "[10.0, 16.0]\n",
      "[15.0, 24.0]\n"
     ]
    }
   ],
   "source": [
    "def is_error(matrix1, matrix2):\n",
    "    return len(matrix1[0]) == len(matrix2)\n",
    "\n",
    "def matrix_multiply(matrix1, matrix2):\n",
    "    if not is_error(matrix1, matrix2):\n",
    "        return \"matrix is not multiplicable\"\n",
    "\n",
    "    result_matrix = [[0] * len(matrix2[0]) for _ in range(len(matrix1))]\n",
    "\n",
    "    for i in range(len(matrix1)):\n",
    "        for j in range(len(matrix2[0])):\n",
    "            for k in range(len(matrix2)):\n",
    "                result_matrix[i][j] += matrix1[i][k] * matrix2[k][j]\n",
    "\n",
    "    return result_matrix\n",
    "\n",
    "rows1, cols1 = map(int, input(\"Enter the number of rows and columns for matrix A (separated by space): \").split(','))\n",
    "matrix1 = [list(map(float, input(f\"Enter row {i + 1}: \").split(','))) for i in range(rows1)]\n",
    "\n",
    "rows2, cols2 = map(int, input(\"Enter the number of rows and columns for matrix B (separated by space): \").split(','))\n",
    "matrix2= [list(map(float, input(f\"Enter row {i + 1}: \").split(','))) for i in range(rows2)]\n",
    "\n",
    "result_matrix = matrix_multiply(matrix1, matrix2)\n",
    "print('matrix1:',matrix1)\n",
    "print('matrix2:',matrix2)\n",
    "if result_matrix is not None:\n",
    "    print(\"\\nResultant Matrix:\")\n",
    "    for row in result_matrix:\n",
    "        print(row)\n",
    "else:\n",
    "    print(\"Error: Matrices are not multipliable.\")\n"
   ]
  }
 ],
 "metadata": {
  "kernelspec": {
   "display_name": "Python 3",
   "language": "python",
   "name": "python3"
  },
  "language_info": {
   "codemirror_mode": {
    "name": "ipython",
    "version": 3
   },
   "file_extension": ".py",
   "mimetype": "text/x-python",
   "name": "python",
   "nbconvert_exporter": "python",
   "pygments_lexer": "ipython3",
   "version": "3.11.5"
  }
 },
 "nbformat": 4,
 "nbformat_minor": 2
}
